{
  "cells": [
    {
      "cell_type": "markdown",
      "metadata": {
        "id": "_avVIGTpvioI"
      },
      "source": [
        "# DX 704 Week 3 Project\n",
        "\n",
        "This week's project will give you practice with optimizing choices for bandit algorithms.\n",
        "You will be given access to the bandit problem via a blackbox object, and you will investigate the bandit rewards to pick a suitable algorithm."
      ]
    },
    {
      "cell_type": "markdown",
      "metadata": {
        "id": "ftRkegOQowWA"
      },
      "source": [
        "The full project description, a template notebook and supporting code are available on GitHub: [Project 3 Materials](https://github.com/bu-cds-dx704/dx704-project-03).\n"
      ]
    },
    {
      "cell_type": "markdown",
      "metadata": {
        "id": "-tPHvNSEdR6h"
      },
      "source": [
        "## Example Code\n",
        "\n",
        "You may find it helpful to refer to these GitHub repositories of Jupyter notebooks for example code.\n",
        "\n",
        "* https://github.com/bu-cds-omds/dx601-examples\n",
        "* https://github.com/bu-cds-omds/dx602-examples\n",
        "* https://github.com/bu-cds-omds/dx603-examples\n",
        "* https://github.com/bu-cds-omds/dx704-examples\n",
        "\n",
        "Any calculations demonstrated in code examples or videos may be found in these notebooks, and you are allowed to copy this example code in your homework answers."
      ]
    },
    {
      "cell_type": "markdown",
      "metadata": {
        "id": "b6VKDAEY8JMI"
      },
      "source": [
        "## Part 1: Pick a Bandit Algorithm\n",
        "\n",
        "Experiment with the multi-armed bandit interface using seed 0 to learn about the distribution of rewards and decide what kind of bandit algorithm will be appropriate.\n",
        "A histogram will likely be helpful."
      ]
    },
    {
      "cell_type": "code",
      "execution_count": 1,
      "metadata": {
        "id": "BCggNE7NpiQN"
      },
      "outputs": [],
      "source": [
        "# DO NOT CHANGE\n",
        "\n",
        "import numpy as np\n",
        "\n",
        "class BanditProblem(object):\n",
        "    def __init__(self, seed):\n",
        "        self.seed = seed\n",
        "        self.rng = np.random.default_rng(seed)\n",
        "\n",
        "        self.num_arms = 3\n",
        "        self.ns = self.rng.integers(low=1, high=10, size=self.num_arms)\n",
        "        self.ps = self.rng.uniform(low=0.2, high=0.4, size=self.num_arms)\n",
        "\n",
        "    def get_num_arms(self):\n",
        "        return self.num_arms\n",
        "\n",
        "    def get_reward(self, arm):\n",
        "        if arm < 0 or arm >= self.num_arms:\n",
        "            raise ValueError(\"Invalid arm\")\n",
        "\n",
        "        x = self.rng.uniform()\n",
        "        x *= self.rng.binomial(self.ns[arm], self.ps[arm])\n",
        "\n",
        "        return x\n"
      ]
    },
    {
      "cell_type": "code",
      "execution_count": 2,
      "metadata": {
        "id": "X99ZQUyhpgak"
      },
      "outputs": [],
      "source": [
        "bandit0 = BanditProblem(0)"
      ]
    },
    {
      "cell_type": "code",
      "execution_count": 3,
      "metadata": {
        "id": "frDtVjt4qATJ"
      },
      "outputs": [
        {
          "data": {
            "text/plain": [
              "3"
            ]
          },
          "execution_count": 3,
          "metadata": {},
          "output_type": "execute_result"
        }
      ],
      "source": [
        "bandit0.get_num_arms()"
      ]
    },
    {
      "cell_type": "code",
      "execution_count": 4,
      "metadata": {
        "id": "sdM9Ec3HqC6h"
      },
      "outputs": [
        {
          "data": {
            "text/plain": [
              "1.8255111545554434"
            ]
          },
          "execution_count": 4,
          "metadata": {},
          "output_type": "execute_result"
        }
      ],
      "source": [
        "bandit0.get_reward(arm=0)"
      ]
    },
    {
      "cell_type": "code",
      "execution_count": 5,
      "metadata": {
        "id": "iuQ0jCr_plcZ"
      },
      "outputs": [
        {
          "name": "stdout",
          "output_type": "stream",
          "text": [
            "Sampling rewards from each arm:\n",
            "Arm 0: mean=0.967, max=3.980\n",
            "Arm 1: mean=0.652, max=3.253\n",
            "Arm 2: mean=1.016, max=3.501\n"
          ]
        },
        {
          "data": {
            "image/png": "[encoded data removed]",
            "text/plain": [
              "<Figure size 1200x400 with 3 Axes>"
            ]
          },
          "metadata": {},
          "output_type": "display_data"
        }
      ],
      "source": [
        "# YOUR CHANGES HERE\n",
        "\n",
        "import matplotlib.pyplot as plt\n",
        "\n",
        "# Explore the bandit with seed 0\n",
        "bandit0 = BanditProblem(0)\n",
        "\n",
        "# Sample rewards to understand distributions\n",
        "print(\"Sampling rewards from each arm:\")\n",
        "for arm in range(3):\n",
        "    rewards = [bandit0.get_reward(arm) for _ in range(100)]\n",
        "    print(f\"Arm {arm}: mean={np.mean(rewards):.3f}, max={np.max(rewards):.3f}\")\n",
        "\n",
        "# Plot histograms\n",
        "fig, axes = plt.subplots(1, 3, figsize=(12, 4))\n",
        "for arm in range(3):\n",
        "    rewards = [bandit0.get_reward(arm) for _ in range(500)]\n",
        "    axes[arm].hist(rewards, bins=20, alpha=0.7)\n",
        "    axes[arm].set_title(f'Arm {arm}')\n",
        "    axes[arm].set_xlabel('Reward')\n",
        "\n",
        "plt.tight_layout()\n",
        "plt.show()\n",
        "\n"
      ]
    },
    {
      "cell_type": "markdown",
      "metadata": {
        "id": "s4-3KtNXtzlY"
      },
      "source": [
        "Based on your investigation, pick an appropriate bandit algorithm to implement from the algorithms covered this week.\n",
        "Write a file \"algorithm-choice.txt\" that states your choice and gives a few sentences justifying your choice and rejecting the alternatives.\n",
        "Keep your explanation concise; overly verbose responses will be penalized."
      ]
    },
    {
      "cell_type": "markdown",
      "metadata": {
        "id": "lY_xvfK4rN0C"
      },
      "source": [
        "## Part 2: Implement Bandit\n",
        "\n",
        "Based on your decision, implement an appropriate bandit algorithm and pick 1000 actions using seed 2025002."
      ]
    },
    {
      "cell_type": "code",
      "execution_count": null,
      "metadata": {
        "id": "kufc5pAPrWTT"
      },
      "outputs": [],
      "source": [
        "# YOUR CHANGES HERE\n",
        "\n",
        "class UCB1:\n",
        "    def __init__(self, num_arms):\n",
        "        self.num_arms = num_arms\n",
        "        self.counts = np.zeros(num_arms)\n",
        "        self.values = np.zeros(num_arms)\n",
        "        self.t = 0\n",
        "        \n",
        "    def select_arm(self):\n",
        "        if self.t < self.num_arms:\n",
        "            return self.t\n",
        "        \n",
        "        ucb_values = self.values + np.sqrt(2 * np.log(self.t) / self.counts)\n",
        "        return np.argmax(ucb_values)\n",
        "    \n",
        "    def update(self, arm, reward):\n",
        "        self.counts[arm] += 1\n",
        "        self.values[arm] += (reward - self.values[arm]) / self.counts[arm]\n",
        "        self.t += 1\n",
        "\n",
        "# Run simulation with seed 2025002\n",
        "bandit = BanditProblem(2025002)\n",
        "algorithm = UCB1(bandit.get_num_arms())\n"
      ]
    },
    {
      "cell_type": "markdown",
      "metadata": {
        "id": "Ho9QihatrZqy"
      },
      "source": [
        "Write a file \"history.tsv\" with columns action and reward in the order that the actions were taken."
      ]
    },
    {
      "cell_type": "code",
      "execution_count": 16,
      "metadata": {
        "id": "OsiU7S1XrX0q"
      },
      "outputs": [
        {
          "name": "stdout",
          "output_type": "stream",
          "text": [
            "     action    reward\n",
            "0         0  0.451736\n",
            "1         0  0.728219\n",
            "2         0  0.556216\n",
            "3         0  1.917412\n",
            "4         0  0.747736\n",
            "..      ...       ...\n",
            "995       0  0.000000\n",
            "996       0  0.974435\n",
            "997       0  0.368857\n",
            "998       0  0.000000\n",
            "999       1  0.786720\n",
            "\n",
            "[1000 rows x 2 columns]\n"
          ]
        }
      ],
      "source": [
        "# YOUR CHANGES HERE\n",
        "import pandas as pd\n",
        "\n",
        "history = []\n",
        "\n",
        "for trial in range(1000):\n",
        "    action = algorithm.select_arm()\n",
        "    reward = bandit.get_reward(action)\n",
        "    algorithm.update(action, reward)\n",
        "    \n",
        "    history.append((action, reward))\n",
        "\n",
        "with open('history.tsv', 'w') as f:\n",
        "    f.write('action\\treward\\n')\n",
        "    for action, reward in history:\n",
        "        f.write(f'{action}\\t{reward}\\n')\n",
        "\n",
        "history_df = pd.read_csv('history.tsv', sep='\\t')\n",
        "print(history_df)"
      ]
    },
    {
      "cell_type": "markdown",
      "metadata": {
        "id": "fwm-1x3mrfXu"
      },
      "source": [
        "Submit \"history.tsv\" in Gradescope."
      ]
    },
    {
      "cell_type": "markdown",
      "metadata": {
        "id": "xc0xYgCzrmGj"
      },
      "source": [
        "## Part 3: Action Statistics\n",
        "\n",
        "Based on the data from part 2, estimate the expected reward for each arm and write a file \"actions.tsv\" with the columns action, min_reward, mean_reward, max_reward."
      ]
    },
    {
      "cell_type": "code",
      "execution_count": null,
      "metadata": {
        "id": "a-uAbY03sFna"
      },
      "outputs": [],
      "source": [
        "# YOUR CHANGES HERE\n",
        "\n",
        "history_df = pd.read_csv('history.tsv', sep='\\t')\n",
        "\n",
        "action_stats = []\n",
        "\n",
        "for arm in range(3):  # We know there are 3 arms\n",
        "    arm_rewards = history_df[history_df['action'] == arm]['reward']\n",
        "    \n",
        "    if len(arm_rewards) > 0:\n",
        "        min_reward = arm_rewards.min()\n",
        "        mean_reward = arm_rewards.mean()\n",
        "        max_reward = arm_rewards.max()\n",
        "        \n",
        "        action_stats.append({\n",
        "            'action': arm,\n",
        "            'min_reward': min_reward,\n",
        "            'mean_reward': mean_reward,\n",
        "            'max_reward': max_reward\n",
        "        })\n",
        "    else:\n",
        "        action_stats.append({\n",
        "            'action': arm,\n",
        "            'min_reward': 0,\n",
        "            'mean_reward': 0,\n",
        "            'max_reward': 0\n",
        "        })\n",
        "\n",
        "stats_df = pd.DataFrame(action_stats)\n",
        "stats_df.to_csv('actions.tsv', sep='\\t', index=False)"
      ]
    },
    {
      "cell_type": "markdown",
      "metadata": {
        "id": "kk8s1hpEsHWX"
      },
      "source": [
        "Submit \"actions.tsv\" in Gradescope."
      ]
    },
    {
      "cell_type": "markdown",
      "metadata": {
        "id": "asaIrLTtsKEv"
      },
      "source": [
        "## Part 4: Regret Estimates\n",
        "\n",
        "Calculate the expected regret taking 1000 actions with the following strategies.\n",
        "\n",
        "* uniform: Pick an arm uniformly at random.\n",
        "* just-i: Always pick arm $i$. Do this for $i=0$ to $K-1$ where $K$ is the number of arms.\n",
        "* actual: This should match your output in part 2."
      ]
    },
    {
      "cell_type": "code",
      "execution_count": 20,
      "metadata": {
        "id": "LgCSJKDmso5a"
      },
      "outputs": [
        {
          "name": "stdout",
          "output_type": "stream",
          "text": [
            "Arm 0 estimated true mean: 0.5713\n",
            "Arm 1 estimated true mean: 0.5449\n",
            "Arm 2 estimated true mean: 0.2004\n",
            "  strategy      regret\n",
            "0   actual   33.354073\n",
            "1  uniform  122.881316\n",
            "2   just-0    4.510503\n",
            "3   just-1   30.817123\n",
            "4   just-2  370.532197\n"
          ]
        }
      ],
      "source": [
        "def estimate_true_rewards(seed=2025002, samples_per_arm=10000):\n",
        "    \"\"\"Estimate true expected rewards for each arm\"\"\"\n",
        "    bandit = BanditProblem(seed)\n",
        "    true_rewards = []\n",
        "    \n",
        "    for arm in range(bandit.get_num_arms()):\n",
        "        rewards = [bandit.get_reward(arm) for _ in range(samples_per_arm)]\n",
        "        true_rewards.append(np.mean(rewards))\n",
        "        print(f\"Arm {arm} estimated true mean: {np.mean(rewards):.4f}\")\n",
        "    \n",
        "    return np.array(true_rewards)\n",
        "\n",
        "def calculate_regret(true_rewards, arm_selections, rewards_obtained):\n",
        "    \"\"\"Calculate regret for a given strategy\"\"\"\n",
        "    optimal_reward_per_step = np.max(true_rewards)\n",
        "    total_optimal_reward = optimal_reward_per_step * len(arm_selections)\n",
        "    total_actual_reward = np.sum(rewards_obtained)\n",
        "    regret = total_optimal_reward - total_actual_reward\n",
        "    return regret\n",
        "\n",
        "true_rewards = estimate_true_rewards()\n",
        "\n",
        "history_df = pd.read_csv('history.tsv', sep='\\t')\n",
        "actual_actions = history_df['action'].values\n",
        "actual_rewards = history_df['reward'].values\n",
        "\n",
        "results = []\n",
        "\n",
        "# 1. Actual UCB1 strategy\n",
        "actual_regret = calculate_regret(true_rewards, actual_actions, actual_rewards)\n",
        "results.append(('actual', actual_regret))\n",
        "\n",
        "bandit = BanditProblem(2025002)\n",
        "np.random.seed(42)\n",
        "uniform_actions = np.random.randint(0, 3, 1000)\n",
        "uniform_rewards = [bandit.get_reward(action) for action in uniform_actions]\n",
        "uniform_regret = calculate_regret(true_rewards, uniform_actions, uniform_rewards)\n",
        "results.append(('uniform', uniform_regret))\n",
        "\n",
        "for arm in range(3):\n",
        "    bandit = BanditProblem(2025002)\n",
        "    just_actions = [arm] * 1000\n",
        "    just_rewards = [bandit.get_reward(arm) for _ in range(1000)]\n",
        "    regret = calculate_regret(true_rewards, just_actions, just_rewards)\n",
        "    results.append((f'just-{arm}', regret))\n",
        "\n",
        "strategies_df = pd.DataFrame(results, columns=['strategy', 'regret'])\n",
        "strategies_df.to_csv('strategies.tsv', sep='\\t', index=False)\n",
        "\n",
        "print(strategies_df)"
      ]
    },
    {
      "cell_type": "markdown",
      "metadata": {
        "id": "ncXs2IqPsqQO"
      },
      "source": [
        "Write your results to a file \"strategies.tsv\" with the columns strategy and regret."
      ]
    },
    {
      "cell_type": "markdown",
      "metadata": {
        "id": "bNs9BJCvtz2N"
      },
      "source": [
        "Submit \"strategies.tsv\" in Gradescope."
      ]
    },
    {
      "cell_type": "markdown",
      "metadata": {
        "id": "lopxdy3lsysb"
      },
      "source": [
        "## Part 5: Acknowledgments\n",
        "\n",
        "Make a file \"acknowledgments.txt\" documenting any outside sources or help on this project.\n",
        "If you discussed this assignment with anyone, please acknowledge them here.\n",
        "If you used any libraries not mentioned in this module's content, please list them with a brief explanation what you used them for.\n",
        "If you used any generative AI tools, please add links to your transcripts below, and any other information that you feel is necessary to comply with the generative AI policy.\n",
        "If no acknowledgements are appropriate, just write none in the file.\n"
      ]
    },
    {
      "cell_type": "markdown",
      "metadata": {
        "id": "H8-GaDpOw06W"
      },
      "source": [
        "Submit \"acknowledgments.txt\" in Gradescope."
      ]
    },
    {
      "cell_type": "markdown",
      "metadata": {
        "id": "_AR_XyZi8N_Q"
      },
      "source": [
        "## Part 6: Code\n",
        "\n",
        "Please submit a Jupyter notebook that can reproduce all your calculations and recreate the previously submitted files."
      ]
    },
    {
      "cell_type": "markdown",
      "metadata": {
        "id": "oXhGo_008M-b"
      },
      "source": [
        "Submit \"project.ipynb\" in Gradescope."
      ]
    }
  ],
  "metadata": {
    "colab": {
      "toc_visible": false
    },
    "kernelspec": {
      "display_name": "Python 3",
      "name": "python3"
    },
    "language_info": {
      "codemirror_mode": {
        "name": "ipython",
        "version": 3
      },
      "file_extension": ".py",
      "mimetype": "text/x-python",
      "name": "python",
      "nbconvert_exporter": "python",
      "pygments_lexer": "ipython3",
      "version": "3.12.1"
    }
  },
  "nbformat": 4,
  "nbformat_minor": 0
}
